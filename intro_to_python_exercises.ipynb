{
 "cells": [
  {
   "cell_type": "markdown",
   "metadata": {},
   "source": [
    "This notebook has been modified from the Cornell University Astronomy REU Python Workshops developed by M. Jones, M. Lam, and L. Leisman. It is designed to be a useful reference for folks trying to learn python for data analysis. The original is found is found at http://www.astro.cornell.edu/~leisman/mainold/helpfiles/python/teachpython.html. Note that this tutorial is built around Python 2 and there are a number of minor changes to keep in mind when learning Python 3.\n",
    "\n",
    "-----"
   ]
  },
  {
   "cell_type": "markdown",
   "metadata": {},
   "source": [
    "# A Brief Introduction To Python"
   ]
  },
  {
   "cell_type": "markdown",
   "metadata": {},
   "source": [
    "## Resources\n",
    "\n",
    "There are lots of resources out there to help one learn python. \n",
    "\n",
    "* For the complete beginner, and for those with only a small amount of experience: http://www.codecademy.com/tracks/python\n",
    "* http://www.sthurlow.com/python/lesson01/ - This is another helpful tutorial for those who would like things explained in a slightly different way. This is more text and less actual coding than codecademy, and is a decent reference.\n",
    "* Another thorough textual reference is http://en.wikibooks.org/wiki/Python_Programming\n",
    "* For intermediate problem solving, check out https://projecteuler.net/problems\n",
    "* Another excellent reference that includes lots of hands on workshops, and tutorials on how to do many astronomy related tasks is Python For Astronomers\n",
    "* Also at the intermediate level, for people who know idl but want to switch to python, this is a super helpful page that steps you through the switch to python (I've also linked it below): http://www.astrobetter.com/wiki/tiki-index.php?page=Python+Tutorial+For+Astronomers+Who+Use+IDL\n",
    "* For those who really know what they are doing, try learning more through data analysis (actually work on a data set). Some useful references include http://docs.scipy.org/doc/scipy/reference/optimize.html which lists of algorithms to solve a problems, and the [scipy cookbook](http://wiki.scipy.org/Cookbook). \n",
    "    \n",
    "Most of the code I write I don't go digging through tutorials to remember snippets of how to do things instead, I use google, old code, and some good reference websites as detailed below:\n",
    "\n",
    "* Google is usually the fastest way to get to your answer, so usually use google first.\n",
    "* http://docs.python.org/2/tutorial/index.html - this is the main python guide, and has everything you could want and more.\n",
    "* http://stackoverflow.com/ - usually the best answers to questions are here. Google your question, then click on stackoverflow links.\n",
    "* http://matplotlib.org/gallery.html - whenever I want to make a complicated plot I look through the matplotlib gallery for something similar and copy the bits I need from the source code there. This is a super helpful resource.\n",
    "* http://www.sthurlow.com/python/lesson01/ - Sometimes it's still useful to have a look back at lessons previously learned...\n",
    "* I also find it very useful to search through old code using the grep command:  \n",
    "`grep 'bit of code I’m looking for' /directory/of/code/*`\n",
    "* You can also check out Luke's python notes (under development): http://astro.cornell.edu/~leisman/main/helpfiles/pythonhelp.html \n",
    "\n",
    "Many (older) astronomers are used to using idl. There are lots of good resources for idl users who want to switch to python:\n",
    "\n",
    "* http://www.astrobetter.com/learning-python-the-diy-way/ This points to:\n",
    "* http://www.astrobetter.com/wiki/tiki-index.php?page=Python+Tutorial+For+Astronomers+Who+Use+IDL Which is a super useful tutorial for working through if you are an astronomer who used to use idl.\n",
    "* http://www.astrobetter.com/wiki/tiki-index.php?page=Python+Switchers+Guide - lists related astronomy functions.\n",
    "* http://mathesaurus.sourceforge.net/idl-numpy.html - a list of syntax differences between idl and python\n",
    "* http://www.scicoder.org/mapping-idl-to-python/ - an amazing list of idl commands and how to execute them in python \n",
    "\n",
    "-----"
   ]
  },
  {
   "cell_type": "markdown",
   "metadata": {},
   "source": [
    "## Some example code \n",
    "\n",
    "Below shows example code that someone can help work through with you. The original can be downloaded [here](http://www.astro.cornell.edu/~leisman/mainold/helpfiles/python/Example.ipynb) (if you prefer an ipython notebook) or [here](http://www.astro.cornell.edu/~leisman/mainold/helpfiles/python/Example.py) (if you'd prefer just a normal python script). You can download the data used in the example [here](http://www.astro.cornell.edu/~leisman/mainold/helpfiles/python/ex_data.dat). Note that there is also a nice [html page](http://www.astro.cornell.edu/~leisman/mainold/helpfiles/python/Example.html) with the same information, along with both a [color](http://www.astro.cornell.edu/~leisman/mainold/helpfiles/python/Example_color.pdf) or [large print](http://www.astro.cornell.edu/~leisman/mainold/helpfiles/python/Example.pdf) pdf.\n",
    "\n",
    "For those very new to python, one of the most important things to understanding python syntax is that python is an object oriented programming language. This means that python focuses around \"objects,\" like say a list of numbers:\n",
    "\n",
    "`>>> mylist = [1,2,3,4]`\n",
    "\n",
    "mylist is a list object, which has certain properties and can be manipulated in certain ways. These manipulations, called methods, are properties of the list object, and thus are accessed by calling object.method(). So, for example, if you wanted to add the value 5 to the list, you do:\n",
    "\n",
    "`>>> mylist.append(5)`  \n",
    "`[1,2,3,4,5]`\n",
    "\n",
    "In addition to methods of objects, you also can have functions that operate on objects. An example of this is if I want to know the length of mylist I can use the length function:\n",
    "\n",
    "`>>>len(mylist)`  \n",
    "`5`\n",
    "\n",
    "With this in mind, have a go at the example and the example exercises below. Good luck! "
   ]
  },
  {
   "cell_type": "code",
   "execution_count": 7,
   "metadata": {
    "collapsed": true
   },
   "outputs": [],
   "source": [
    "#Here I import the relevant function libraries\n",
    "#This can be done in many ways\n",
    "#To import an entire library (e.g. scipy) so that functions accessed by typing \"lib_name.func_name\"\n",
    "%matplotlib inline\n",
    "import matplotlib\n",
    "\n",
    "#To import a subsection of a library\n",
    "import scipy.optimize\n",
    "\n",
    "#To import the whole library under a different name, so you can type \"diff_name.func_name\"\n",
    "import numpy as np\n",
    "import matplotlib.pyplot as plt\n",
    "\n",
    "#To import just a particular function\n",
    "from time import time\n",
    "from math import sin\n",
    "#This may be confusing but I'm grabbing a function usually denoted with \"time.time\""
   ]
  },
  {
   "cell_type": "code",
   "execution_count": 8,
   "metadata": {},
   "outputs": [
    {
     "name": "stdout",
     "output_type": "stream",
     "text": [
      "[0.316566617533, 1.27780890341, -0.0842651455297, -0.834046738255, 0.0311669517215, -0.613703942266, -0.274017899322, 0.142874468776, 0.844543392978, -0.227686867042]\n"
     ]
    }
   ],
   "source": [
    "#First of all we need to read the example data file into a list\n",
    "#I will create an empty list and append the data as I read the file\n",
    "#Note appending is a VERY inefficient opperation, however for less than a ~million repeats it's fine\n",
    "\n",
    "#Make an empty list:\n",
    "datalist = []\n",
    "\n",
    "#Open the file. Here the 'r' means 'read'\n",
    "f = open('ex_data.dat','r')\n",
    "\n",
    "#Now read all the lines of the file into a list called lines\n",
    "#For very large files this isn't always a good plan as you may not want to store the whole file in the memory, such files should be read line by line\n",
    "lines = f.readlines()\n",
    "\n",
    "#Now loop over ever line and record the value as a floating point number in datalist\n",
    "#Notice that python's loop functionality is very flexible\n",
    "for line in lines:\n",
    "    datalist.append(float(line))\n",
    "print datalist[:10]"
   ]
  },
  {
   "cell_type": "code",
   "execution_count": 4,
   "metadata": {},
   "outputs": [
    {
     "data": {
      "image/png": "[encoded data removed]",
      "text/plain": [
       "<matplotlib.figure.Figure at 0x7effc1421210>"
      ]
     },
     "metadata": {},
     "output_type": "display_data"
    }
   ],
   "source": [
    "#Now we want to we want to create a plot\n",
    "#Create a figure called 'fig' and a set of axes called 'ax'\n",
    "fig,ax = plt.subplots(figsize=(8,6))\n",
    "\n",
    "#Create a dummy list of numbers to plot along the x-axis\n",
    "#We will create a numpy array using the 'numpy.arange()' function\n",
    "#The syntax for this is (start_value,non_inclusive_end_value,step_size)\n",
    "#Here I also use the 'len()' function which returns the length of a list/array\n",
    "x_vals = np.arange(0,len(datalist),1)\n",
    "\n",
    "#Now plot the data on the axes\n",
    "#Here I choose to plot the data as blue dots\n",
    "ax.plot(x_vals,datalist,'b.')\n",
    "\n",
    "#Set the limits, and label the axes\n",
    "ax.set_xlim(0,100)\n",
    "ax.set_ylim(-5,50)\n",
    "ax.set_xlabel('x')\n",
    "ax.set_ylabel('val')\n",
    "\n",
    "#Force the plot to be displayed\n",
    "plt.show()\n",
    "\n",
    "#Save the plot\n",
    "fig.savefig('ex_fig.jpg',dpi=300)"
   ]
  },
  {
   "cell_type": "code",
   "execution_count": 5,
   "metadata": {
    "collapsed": true
   },
   "outputs": [],
   "source": [
    "#Now make a function of a gaussian distribution\n",
    "def gaussian(x,mean,sigma,A):\n",
    "    \n",
    "    #Set the normalisation\n",
    "    norm = A/(sigma*np.sqrt(2.*np.pi))\n",
    "    \n",
    "    return norm*np.exp( -((x-mean)**2.) / (2.*sigma**2.) )"
   ]
  },
  {
   "cell_type": "code",
   "execution_count": 6,
   "metadata": {},
   "outputs": [
    {
     "name": "stdout",
     "output_type": "stream",
     "text": [
      "A =  1010.0\n",
      "Mean =  56.0\n",
      "Sigma =  9.0\n"
     ]
    }
   ],
   "source": [
    "#First we will fit this the bad, slow way\n",
    "\n",
    "#Start with an impossibly large value of least_sq\n",
    "least_sq = 1000000000.\n",
    "\n",
    "#Loop over each parameter and over each value of x and calculate where least_sq is minimised\n",
    "#Make some value approximate guesses of where the min/max values of the parameters are\n",
    "for mean in np.arange(50.,60.,1.):\n",
    "    for sigma in np.arange(5.,15.,1.):\n",
    "        for A in np.arange(500.,1500.,10.):\n",
    "            least_sq_temp = 0.\n",
    "            for i in range(0,len(x_vals),1):\n",
    "                #Add the current deviations to the temp value of least_sq\n",
    "                least_sq_temp += (datalist[i] - gaussian(x_vals[i],mean,sigma,A))**2.\n",
    "            \n",
    "            #If least_sq_temp is a better fit than your current stored value then update the fit\n",
    "            if least_sq_temp < least_sq:\n",
    "                least_sq = least_sq_temp\n",
    "                A_fit = A\n",
    "                mean_fit = mean\n",
    "                sigma_fit = sigma\n",
    "\n",
    "print 'A = ',A_fit\n",
    "print 'Mean = ',mean_fit\n",
    "print 'Sigma = ',sigma_fit"
   ]
  },
  {
   "cell_type": "code",
   "execution_count": null,
   "metadata": {
    "collapsed": true
   },
   "outputs": [],
   "source": [
    "#Reproduce the plot, but with the fit\n",
    "fig,ax = plt.subplots(figsize=(8,6))\n",
    "\n",
    "x_vals = np.arange(0,len(datalist),1)\n",
    "\n",
    "#Here I select the plot the fit as a green, dotted, 2pt line\n",
    "ax.plot(x_vals,gaussian(x_vals,mean_fit,sigma_fit,A_fit),lw=2,ls='dotted',color='green')\n",
    "ax.plot(x_vals,datalist,'b.')\n",
    "\n",
    "ax.set_xlim(0,100)\n",
    "ax.set_ylim(-5,50)\n",
    "ax.set_xlabel('x')\n",
    "ax.set_ylabel('val')\n",
    "\n",
    "plt.show()\n",
    "\n",
    "#Save the plot\n",
    "fig.savefig('ex_fit1_fig.jpg',dpi=300)"
   ]
  },
  {
   "cell_type": "code",
   "execution_count": null,
   "metadata": {
    "collapsed": true
   },
   "outputs": [],
   "source": [
    "#Now do the fit the smart way, by using a built in curve fitting function\n",
    "#The function returns the fit parameters and the covariances\n",
    "#The syntax is (function_to_fit, x_values, data_values, p0 = list_of_initial_guesses)\n",
    "fit,cov = scipy.optimize.curve_fit(gaussian, x_vals, datalist, p0 = [55.,10.,800.])\n",
    "\n",
    "print 'Mean = ',fit[0]\n",
    "print 'Sigma = ',fit[1]\n",
    "print 'A = ',fit[2]"
   ]
  },
  {
   "cell_type": "code",
   "execution_count": null,
   "metadata": {
    "collapsed": true
   },
   "outputs": [],
   "source": [
    "#Reproduce the plot, but with the new fit\n",
    "fig,ax = plt.subplots(figsize=(8,6))\n",
    "\n",
    "x_vals = np.arange(0,len(datalist),1)\n",
    "\n",
    "ax.plot(x_vals,gaussian(x_vals,fit[0],fit[1],fit[2]),lw=2,ls='dashed',color='red')\n",
    "ax.plot(x_vals,datalist,'b.')\n",
    "\n",
    "ax.set_xlim(0,100)\n",
    "ax.set_ylim(-5,50)\n",
    "ax.set_xlabel('x')\n",
    "ax.set_ylabel('val')\n",
    "\n",
    "plt.show()\n",
    "\n",
    "#Save the plot\n",
    "fig.savefig('ex_fit2_fig.jpg',dpi=300)"
   ]
  },
  {
   "cell_type": "code",
   "execution_count": null,
   "metadata": {
    "collapsed": true
   },
   "outputs": [],
   "source": []
  },
  {
   "cell_type": "code",
   "execution_count": null,
   "metadata": {
    "collapsed": true
   },
   "outputs": [],
   "source": [
    "#This is the end of the example, but below are some useful things to note"
   ]
  },
  {
   "cell_type": "code",
   "execution_count": null,
   "metadata": {
    "collapsed": true
   },
   "outputs": [],
   "source": [
    "#Array Arithmetic\n",
    "\n",
    "#When dealing with large lists (the norm in astronomy) array arithmetic is nearly always namy times faster\n",
    "#You should write as much of your code using numpy arrays as you possibly can\n",
    "#The only real drawback of arrays is that you cannot append values to them, they have fixed length\n",
    "\n",
    "#Here I will take the sine of a million element array using a loop and using array arithmetic \n",
    "#Look at the difference in duration\n",
    "\n",
    "#Generate an array of 10 million numbers between 0 and pi\n",
    "val_arr = np.random.uniform(0,np.pi,int(1e6))\n",
    "\n",
    "\n",
    "#Recast these arrays as lists\n",
    "val_list = list(val_arr)\n",
    "\n",
    "start_time = time()\n",
    "#Note I've used the shorthand version of range here (the default start is 0 and default step is 1)\n",
    "for i in range(len(val_arr)):\n",
    "    #This will overwrite the current value with its sine\n",
    "    val_list[i] = sin(val_list[i])\n",
    "print \"Loop time: \",(time()-start_time),\"sec\"\n",
    "\n",
    "start_time = time()\n",
    "val_arr = np.sin(val_arr)\n",
    "print \"Array arithmetic time: \",(time()-start_time),\"sec\""
   ]
  },
  {
   "cell_type": "code",
   "execution_count": null,
   "metadata": {
    "collapsed": true
   },
   "outputs": [],
   "source": [
    "#Integer Arithmetic\n",
    "\n",
    "#If you're not used to coding, I've got some bad news for you, computer are pretty dumb\n",
    "#Python will identify what a number you give is by how you write it\n",
    "#If the number doesn't have a decimal point it will assume it's an integer\n",
    "\n",
    "print 3/2\n",
    "\n",
    "print 3./2."
   ]
  },
  {
   "cell_type": "code",
   "execution_count": null,
   "metadata": {
    "collapsed": true
   },
   "outputs": [],
   "source": [
    "#Pass by Reference vs Pass by Value\n",
    "\n",
    "#In most cases python defaults to passing by reference\n",
    "#This means that when you say 'a = b' you are essentially telling the computer that they are the same thing\n",
    "#Whatever you do to b is also done to a\n",
    "\n",
    "a = [1,2,3,4,5]\n",
    "b = a\n",
    "\n",
    "print a,b\n",
    "\n",
    "#Delete the value 3 from the list a\n",
    "a.remove(3)\n",
    "\n",
    "print a,b"
   ]
  },
  {
   "cell_type": "code",
   "execution_count": null,
   "metadata": {
    "collapsed": true
   },
   "outputs": [],
   "source": [
    "#To overcome this you have to \"trick\" the computer into duplicating the list\n",
    "\n",
    "a = [1,2,3,4,5]\n",
    "#This will copy the array from 'start_point:end_point', the default is the start/end of the list\n",
    "b = a[:]\n",
    "\n",
    "a.remove(3)\n",
    "\n",
    "print a,b"
   ]
  },
  {
   "cell_type": "code",
   "execution_count": null,
   "metadata": {
    "collapsed": true
   },
   "outputs": [],
   "source": [
    "#There some other tricks you can play with this\n",
    "\n",
    "a = [1,2,3,4,5]\n",
    "\n",
    "#To return the list in reverse\n",
    "#This is saying go through the whole list, but stepping one place backwards each time\n",
    "print a[::-1]\n",
    "\n",
    "#To return every other value\n",
    "print a[::2]"
   ]
  },
  {
   "cell_type": "code",
   "execution_count": null,
   "metadata": {
    "collapsed": true
   },
   "outputs": [],
   "source": [
    "#Another python is to use sets\n",
    "#If you want to remove duplicates from a list you don't have to do a complicated algorithm\n",
    "\n",
    "a = [1,1,2,3,3,3,3,4,5,5,5]\n",
    "\n",
    "#To remove duplicates you can define the list as a set\n",
    "#Sets are mathematical objects that cannot have duplicates\n",
    "#Then you can redefine as a list\n",
    "#Doing this all at once\n",
    "\n",
    "print list(set(a))"
   ]
  },
  {
   "cell_type": "code",
   "execution_count": null,
   "metadata": {
    "collapsed": true
   },
   "outputs": [],
   "source": []
  },
  {
   "cell_type": "code",
   "execution_count": null,
   "metadata": {
    "collapsed": true
   },
   "outputs": [],
   "source": []
  },
  {
   "cell_type": "code",
   "execution_count": null,
   "metadata": {
    "collapsed": true
   },
   "outputs": [],
   "source": []
  },
  {
   "cell_type": "markdown",
   "metadata": {},
   "source": [
    "## Demonstration exercises\n",
    "\n",
    "Here are some sample exercises to work through. They demonstrate many techniques that we use all the time.\n",
    "\n",
    "### Beginner Level\n",
    "\n",
    "This exercise is designed for those who are fairly new to python and coding in general. It asks you to read in a list of numbers from a file and to write an algorithm to sort the list.\n",
    "\n",
    "1. Using the techniques described in the example code above, read in [this file](PythonTutorial/beginner.txt) (PythonTutorial/beginner.txt) and store its contents as a list (f.readlines() will be useful). Print your list.\n",
    "2. The list you've read in will be a list of strings. Write a for loop that converts each string in the list to an integer (using range(len(list))...). Print your updated list.\n",
    "3. Next, create a second, empty list to store the sorted data in.\n",
    "4. Now write a for loop that loops over the list you read in from file and:\n",
    "    * stores the first entry\n",
    "    * looks at each sucessive entry in the list and compares it to the stored entry.\n",
    "    * If an entry is less than the stored entry, replace the stored entry with this new lowest value. \n",
    "5. Congratulations, you've now found the lowest value in the list. Take the value stored in your for loop and add it to your second list (using the list.append() method). Use the list.remove(x) method to remove the value you've just added to the second list from the first list.\n",
    "6. Now repeat the process in steps 4 and 5 for each value in the initial list (do this by embedding steps 4 and 5 in a for loop; the syntax range(len(list)) will be useful here). [Note, you also could use a while statement, but we'll stick with for loops].\n",
    "7. Print out your newly sorted list to make sure your algorithm worked.\n",
    "8. If time permits, add a variable verbose, that when it's true you print out the list at each step of the way.\n",
    "9. If time permits, come up with a more efficient method for sorting the list (there are many: it's fine to use google to see what sorting algorithms are out there. And of course, there's a python sort command - see if you can figure out how it works). \n",
    "\n",
    "Once you have finished the exercise you can compare your answers to my code [here](PythonTutorial/beginner.py). "
   ]
  },
  {
   "cell_type": "code",
   "execution_count": null,
   "metadata": {
    "collapsed": true
   },
   "outputs": [],
   "source": [
    "# Some space for you to work"
   ]
  },
  {
   "cell_type": "code",
   "execution_count": null,
   "metadata": {
    "collapsed": true
   },
   "outputs": [],
   "source": []
  },
  {
   "cell_type": "code",
   "execution_count": null,
   "metadata": {
    "collapsed": true
   },
   "outputs": [],
   "source": []
  },
  {
   "cell_type": "markdown",
   "metadata": {},
   "source": [
    "###  Intermediate Level\n",
    "\n",
    "This exercise is designed for those who are already somewhat comfortable with python and want to learn more about exploiting its capabilities. It asks you to read in a file containing 10 time series, each containing a gaussian radio pulse. Then, using numpy and matplotlib, it asks you to plot the pulse, measure the pulse's signal to noise ratio, and output values in a nicely formatted table.\n",
    "\n",
    "1. Read in [this file](PythonTutorial/intermediate.txt) (PythonTutorial/intermediate.txt).\n",
    "2. The file contains 10 rows of comma separated numbers. Each row represents the amount of signal output from a radio antenna as a function of time (in 1 second time intervals). Loop through the lines in the file (f.readlines() will be useful here). For each line, do the following:\n",
    "    1. Convert the line from one long string into a numpy array of floats.\n",
    "    2. Using matplotlib.pyplot make a plot of the data you just read in as a function of time (hint: you'll have to figure out how many time steps are present in the data).\n",
    "    3. Using the capabilities of numpy, find the value of the maximum flux in your time series.\n",
    "    4. Excluding your pulse, (the pulse is in the first half of the time series, so you can cheat and just limit yourself to the second half of the time series) calculate the rms noise in your spectrum. (Recall that the rms is the root mean square - find the mean of the squares of all the points, then take the square root. You might also use np.std() and compare the results (and think about why they are different, if they are different)).\n",
    "    5. Do a simple estimate of the signal to noise ratio of the pulse as peakflux/rms.\n",
    "    6. Using a formatted string, print the output signal to noise, peakflux and rms to a descriptive table, rounding each number to two decimal places. \n",
    "3. If time permits figure out how to display all your time series on top of one another at the end, rather than having the plots pop up one at a time.\n",
    "4. If time permits mess around with fitting the gaussian pulse and come up with other estimates of the signal to noise ratio. \n",
    "\n",
    "Once you have finished the exercise you can compare your answers to my code [here](PythonTutorial/intermediate.py). "
   ]
  },
  {
   "cell_type": "code",
   "execution_count": null,
   "metadata": {
    "collapsed": true
   },
   "outputs": [],
   "source": [
    "# Some space for you to work"
   ]
  },
  {
   "cell_type": "code",
   "execution_count": null,
   "metadata": {
    "collapsed": true
   },
   "outputs": [],
   "source": []
  },
  {
   "cell_type": "code",
   "execution_count": null,
   "metadata": {
    "collapsed": true
   },
   "outputs": [],
   "source": []
  },
  {
   "cell_type": "markdown",
   "metadata": {},
   "source": [
    "### Advanced Level\n",
    "\n",
    "This exercise is for those who really know what they are doing in python and would like a challenge. Given a low signal to noise pulse series you're asked to determine the pulse frequency, and then pull the pulse out of the noise by smoothing the time series and folding the data.\n",
    "\n",
    "1. Read in the data in [this file](PythonTutorial/advanced.txt) (PythonTutorial/advanced.txt) using whatever method you'd like.\n",
    "2. Using the capabilities of scipy, take the fourier transform of the data and plot to determine the pulse frequency.\n",
    "3. Smooth the spectrum using 3 channel hanning smoothing.\n",
    "4. Fold the data to the period you determined earlier, and plot.\n",
    "5. iterate as necessary. \n",
    "\n",
    "\n",
    "TBD\n",
    "\n",
    "As an alternative exercise, use aplpy (\"apple pie\") to make an image of a field of ALFALFA data.\n",
    "\n",
    "    Download [this fits] file, and plot it in inverted greyscale.\n",
    "    Overplot a contour at 0.13 mJy/beam.\n",
    "    There are two groups of galaxies in the image. Put a box around each one.\n",
    "    Label the lower left group NGC 3227 group, and the upper right group the NGC 3190 group\n",
    "    Make your axis labels bold, and give the figure a thick border\n",
    "    Save a .png and .eps version of the figure \n",
    "\n",
    "Compare to my code to make a figure from one of my recent papers! "
   ]
  },
  {
   "cell_type": "code",
   "execution_count": null,
   "metadata": {
    "collapsed": true
   },
   "outputs": [],
   "source": [
    "# Some space for you to work"
   ]
  },
  {
   "cell_type": "code",
   "execution_count": null,
   "metadata": {
    "collapsed": true
   },
   "outputs": [],
   "source": []
  },
  {
   "cell_type": "code",
   "execution_count": null,
   "metadata": {
    "collapsed": true
   },
   "outputs": [],
   "source": []
  }
 ],
 "metadata": {
  "kernelspec": {
   "display_name": "Python 2",
   "language": "python",
   "name": "python2"
  },
  "language_info": {
   "codemirror_mode": {
    "name": "ipython",
    "version": 2
   },
   "file_extension": ".py",
   "mimetype": "text/x-python",
   "name": "python",
   "nbconvert_exporter": "python",
   "pygments_lexer": "ipython2",
   "version": "2.7.15"
  }
 },
 "nbformat": 4,
 "nbformat_minor": 1
}
