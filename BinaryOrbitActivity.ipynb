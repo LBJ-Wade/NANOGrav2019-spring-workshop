{
 "cells": [
  {
   "cell_type": "markdown",
   "metadata": {
    "collapsed": true
   },
   "source": [
    "# Fit That Orbit!"
   ]
  },
  {
   "cell_type": "markdown",
   "metadata": {},
   "source": [
    "The goal of this activity is to show you how pulsar astronomers estimate the properties of binary pulsars when they are first discovered. We first present the basic theory behind pulsar-binary motion and then give you several data sets to play with. Good luck!"
   ]
  },
  {
   "cell_type": "markdown",
   "metadata": {},
   "source": [
    "## Part 1: Context"
   ]
  },
  {
   "cell_type": "markdown",
   "metadata": {},
   "source": [
    "When a radio pulsar is first discovered, astronomers roughly estimate a spin period ($P_{\\rm s}$) based on a train of successive pulses measured within a several-minute observation. Some days later, the same region on the sky is re-examined so that the pulsar can be confirmed to be real (as opposed to, for example, radio frequency interference caused by terrestrial phenomena). \n",
    "\n",
    "If the pulsar resides within a binary system, $P_{\\rm s}$ will appear to change over long timescales due to the periodic Doppler effect that arises from orbital motion. For a general, eccentric orbit, the pulsar-spin period measured at a time $t$ will be given as\n",
    "\n",
    "\\begin{equation}\n",
    "    P_{\\rm s}(t) = P_{\\rm s,0}\\bigg(1 + \\frac{|\\vec{v}_{\\rm orb}|}{c}\\bigg)\n",
    "\\end{equation}\n",
    "\n",
    "where $P_{\\rm s,0}$ is the intrinsic spin period of the pulsar, $c$ is the speed of light, and $\\vec{v}_{\\rm orb}$ is the radial velocity of the pulsar due to orbital motion:\n",
    "\n",
    "\\begin{equation}\n",
    "    \\frac{|\\vec{v}_{\\rm orb}|}{c} = \\frac{2\\pi x}{P_{\\rm b}\\sqrt{1-e^2}}\\bigg[\\cos(u + \\omega) + e\\cos\\omega\\bigg].\n",
    "\\end{equation}\n",
    "\n",
    "The various terms in the above equation are summarized as follows: $x$ is the $\\textit{projected semi-major axis}$ of the pulsar's orbit; $P_{\\rm b}$ is the $\\textit{orbital period}$ of the system; $e$ is the eccentricity of the orbit; $\\omega$ is the $\\textit{argument of periastron}$, an angle that describes the orientation of the system; and $u$ is the $\\textit{true anomaly}$, a time-dependent quantity that describes the location of the pulsar within its orbit. The true anomaly depends on time in a complicated way,\n",
    "\n",
    "\\begin{align}\n",
    "    u(t) &= 2\\arctan\\bigg(\\sqrt{\\frac{1 + e}{1 - e}}\\tan\\bigg[\\frac{E(t)}{2}\\bigg]\\bigg), \\nonumber \\\\\n",
    "    E - e\\sin E &= \\frac{2\\pi}{P_{\\rm b}}(t - T_0),\n",
    "\\end{align}\n",
    "\n",
    "where $E(t)$ is the $\\textit{eccentric anomaly}$ of the pulsar and $T_0$ is the $\\textit{epoch of periastron passage}$. Since pulsar astronomers measure different values of $P_{\\rm s}$ at different $t$, there are six unknowns that do not depend on time: $P_{\\rm s,0}$ and the five \"Keplerian parameters\": $\\{x, P_{\\rm b}, e, \\omega, T_0\\}$. "
   ]
  },
  {
   "cell_type": "markdown",
   "metadata": {},
   "source": [
    "## Part 2: An Idealized Data Set\n",
    "\n",
    "Let's consider an \"idealized\" data set, where we estimate the spin period of a binary pulsar every couple of minutes, for a number of hours. The data set is stored in the file \"sim_orbit1.dat\", and has three columns: date (in MJD); spin period (in milliseconds); and the uncertainty in the spin period (also in milliseconds). "
   ]
  },
  {
   "cell_type": "code",
   "execution_count": null,
   "metadata": {
    "collapsed": true
   },
   "outputs": [],
   "source": [
    "# for starters, read in the data set using loadtxt.\n",
    "# then store the columns into separate Python arrays.\n",
    "# then plot the data, inluding the measurement uncertainties.\n",
    "\n",
    "import matplotlib.pyplot as plt\n",
    "from numpy import loadtxt\n",
    "\n",
    "infile = 'sim_orbit1.dat'\n",
    "data = loadtxt(infile)\n",
    "\n",
    "mjds = data[:, 0]\n",
    "periods = data[:, 1]\n",
    "periods_errs = data[:, 2]\n",
    "\n",
    "plt.errorbar(mjds, periods, yerr=periods_errs)\n",
    "plt.xlabel('Time (MJD)')\n",
    "plt.ylabel('Spin Period (ms)')\n",
    "plt.show()"
   ]
  },
  {
   "cell_type": "code",
   "execution_count": null,
   "metadata": {
    "collapsed": true
   },
   "outputs": [],
   "source": [
    "# now, zoom in a segment of data that spans 0.8 days. You can do this by \n",
    "# copying the plotting code here and adding in a plt.xlim(MJD_min,MJD_max)\n",
    "\n"
   ]
  },
  {
   "cell_type": "code",
   "execution_count": null,
   "metadata": {
    "collapsed": true
   },
   "outputs": [],
   "source": [
    "# now, plot a model to the zoomed-in data.\n",
    "# update the values below until you hone in on a seemingly good fight.\n",
    "\n",
    "ps = 0. # estimate of spin period, in ms.\n",
    "x = 0. # estimate of projected semi-major axis.\n",
    "pb = 0. # estimate of orbital period.\n",
    "ecc = 0. # estimate of eccentricity.\n",
    "om = 0. # estimate of periastron argument.\n",
    "t0 = 0. # estimate of epoch of periastron passage.\n",
    "\n",
    "from fitorbitfuncs import doppler_shift_orbit \n",
    "mod = ps * (1 + doppler_shift_orbit(mjds, x, pb, ecc, om, t0))"
   ]
  },
  {
   "cell_type": "code",
   "execution_count": null,
   "metadata": {
    "collapsed": true
   },
   "outputs": [],
   "source": [
    "# Re-plot your data with the model here (using plt.plot(mjds,mod))\n",
    "\n",
    "\n"
   ]
  },
  {
   "cell_type": "code",
   "execution_count": null,
   "metadata": {
    "collapsed": true
   },
   "outputs": [],
   "source": [
    "pars = [ps, x, pb, ecc, om, t0]\n",
    "\n",
    "from fitorbitfuncs import fit_orbit\n",
    "best_fit = fit_orbit(pars, mjds, periods, periods_errs)"
   ]
  },
  {
   "cell_type": "markdown",
   "metadata": {
    "collapsed": true
   },
   "source": [
    "The visual sign of a good statistical fit is for the difference between the data and the model (often referred to as the ${\\it residuals}$) to be flat. Since real measurements often have small amounts of noise and uncertainties associated with them, we would then expect the residuals of a good fit to jitter about the zero line. \n",
    "\n",
    "Assuming you obtain a good fit, the final parameter estimates will be printed above. These parameters are actually based on a real pulsar-binary system. ${\\bf Question}$: $\\textbf{based on these parameters, which pulsar in a binary system did you solve?}$ (Hint: use the ATNF online pulsar catalog and roughly compare parameters by eye.)\n",
    "\n",
    "Answer: PSR B1913+16, also known as the Hulse-Taylor pulsar!"
   ]
  },
  {
   "cell_type": "markdown",
   "metadata": {
    "collapsed": true
   },
   "source": [
    "# Part 1b: Derive some Properties of the Stars"
   ]
  },
  {
   "cell_type": "markdown",
   "metadata": {},
   "source": [
    "Once the Keplerian elements are known, we can derive a few additional quantities that will help shed light on intrinsic properties of the system. For starters, we can compute the $\\textit{mass function}$ of the system, \n",
    "\n",
    "\\begin{align}\n",
    "    f_m &= \\frac{4\\pi^2x^3}{T_\\odot P_{\\rm b}^2} = \\frac{(m_{\\rm c}\\sin i)^3}{(m_{\\rm p} + m_{\\rm c})^2},\n",
    "\\end{align}\n",
    "\n",
    "where $m_{\\rm p}$ is the pulsar's mass, $m_{\\rm c}$ is the mass of the companion object, and $T_\\odot = G{\\rm M}_\\odot/c^3$ = 4.925490947 $\\mu$s is a collection of constants. This quantity is interesting because it allows us to make an (indirect!) estimate of the masses of the system from measurements of the Keplerian parameters. To see this, let's note that $m_{\\rm p} \\approx 1.4\\textrm{ M}_\\odot$ for most pulsars; theoretical calculations place an upper-limit on the pulsar mass to be $m_{\\rm p} \\sim 3\\textrm{ M}_\\odot$, so this is a safe assumption. We can also assume, for simplicity, that $\\sin i = 1$ (i.e. that the orbit is edge-on, and that $x = a_{\\rm p}$). This assumption is a lot less safe, since we know of binary systems that have very low inclinations, but it ends up giving us a lower limit of $m_{\\rm c}$ when assuming a value for $m_{\\rm p}$. With this case, we can re-write the above equation to find $m_{\\rm c}$:\n",
    "\n",
    "\\begin{equation}\n",
    "    m_{\\rm c, min}^{3/2} - f_m(m_{\\rm p} + m_{\\rm c, min}) = 0.\n",
    "\\end{equation}\n",
    "\n",
    "While we cannot solve for $m_{\\rm c}$ analytically, we can use numerical techniques find the value of $m_{\\rm c}$ that satisfies the above equation. We've written a python routine for you, called $\\texttt{m2_massfunc}$, that use's the \"Newton-Raphson approximation method\" for solving the above equation for $m_{\\rm c}$ when assuming values for $m_{\\rm p}$ and $\\sin i$."
   ]
  },
  {
   "cell_type": "code",
   "execution_count": null,
   "metadata": {
    "collapsed": true
   },
   "outputs": [],
   "source": [
    "from fitorbitfuncs import mass_function, m2_massfunction\n",
    "from numpy import sin\n",
    "\n",
    "# find the mass of the companion from the mass function, assuming \n",
    "# that the pulsar mass is 1.4 solar masses and for several different \n",
    "# values of the sine of the inclination angle.\n",
    "\n",
    "\n",
    "\n",
    "# the mass of the pulsar and its companion is 1.4 solar masses.\n",
    "# what does the inclination have to be in order for the mass function \n",
    "# to yield consistent estimates of the masses?\n",
    "\n"
   ]
  },
  {
   "cell_type": "code",
   "execution_count": null,
   "metadata": {
    "collapsed": true
   },
   "outputs": [],
   "source": []
  },
  {
   "cell_type": "code",
   "execution_count": null,
   "metadata": {
    "collapsed": true
   },
   "outputs": [],
   "source": []
  },
  {
   "cell_type": "code",
   "execution_count": null,
   "metadata": {
    "collapsed": true
   },
   "outputs": [],
   "source": []
  }
 ],
 "metadata": {
  "kernelspec": {
   "display_name": "Python 2",
   "language": "python",
   "name": "python2"
  },
  "language_info": {
   "codemirror_mode": {
    "name": "ipython",
    "version": 2
   },
   "file_extension": ".py",
   "mimetype": "text/x-python",
   "name": "python",
   "nbconvert_exporter": "python",
   "pygments_lexer": "ipython2",
   "version": "2.7.13"
  }
 },
 "nbformat": 4,
 "nbformat_minor": 1
}
